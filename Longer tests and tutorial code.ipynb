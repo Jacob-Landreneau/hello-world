{
 "cells": [
  {
   "cell_type": "code",
   "execution_count": 1,
   "metadata": {},
   "outputs": [],
   "source": [
    "str_1 = \"Hello\"\n",
    "str_2 = \"Brother\""
   ]
  },
  {
   "cell_type": "code",
   "execution_count": 2,
   "metadata": {},
   "outputs": [],
   "source": [
    "new_string = str_1 + str_2"
   ]
  },
  {
   "cell_type": "code",
   "execution_count": 3,
   "metadata": {},
   "outputs": [
    {
     "name": "stdout",
     "output_type": "stream",
     "text": [
      "HelloBrother\n"
     ]
    }
   ],
   "source": [
    "print (new_string) #My friends influence even my work"
   ]
  },
  {
   "cell_type": "code",
   "execution_count": 4,
   "metadata": {},
   "outputs": [
    {
     "name": "stdout",
     "output_type": "stream",
     "text": [
      "Hello Brother\n"
     ]
    }
   ],
   "source": [
    "my_string = str_1 + ' ' + str_2\n",
    "print(my_string)"
   ]
  },
  {
   "cell_type": "code",
   "execution_count": 5,
   "metadata": {},
   "outputs": [
    {
     "data": {
      "text/plain": [
       "'l'"
      ]
     },
     "execution_count": 5,
     "metadata": {},
     "output_type": "execute_result"
    }
   ],
   "source": [
    "my_string[2]"
   ]
  },
  {
   "cell_type": "code",
   "execution_count": 6,
   "metadata": {},
   "outputs": [
    {
     "data": {
      "text/plain": [
       "'Hello'"
      ]
     },
     "execution_count": 6,
     "metadata": {},
     "output_type": "execute_result"
    }
   ],
   "source": [
    "my_string[:5]"
   ]
  },
  {
   "cell_type": "code",
   "execution_count": 5,
   "metadata": {},
   "outputs": [
    {
     "data": {
      "text/plain": [
       "'Brother'"
      ]
     },
     "execution_count": 5,
     "metadata": {},
     "output_type": "execute_result"
    }
   ],
   "source": [
    "my_string[6:]"
   ]
  },
  {
   "cell_type": "code",
   "execution_count": 10,
   "metadata": {},
   "outputs": [
    {
     "name": "stdout",
     "output_type": "stream",
     "text": [
      "banana\n"
     ]
    }
   ],
   "source": [
    "b_string = \"banana\"\n",
    "print(b_string)"
   ]
  },
  {
   "cell_type": "code",
   "execution_count": 9,
   "metadata": {
    "scrolled": true
   },
   "outputs": [
    {
     "ename": "NameError",
     "evalue": "name 'banana' is not defined",
     "output_type": "error",
     "traceback": [
      "\u001b[1;31m---------------------------------------------------------------------------\u001b[0m",
      "\u001b[1;31mNameError\u001b[0m                                 Traceback (most recent call last)",
      "\u001b[1;32m<ipython-input-9-0eb9627abac3>\u001b[0m in \u001b[0;36m<module>\u001b[1;34m\u001b[0m\n\u001b[1;32m----> 1\u001b[1;33m \u001b[0mstr_b\u001b[0m \u001b[1;33m=\u001b[0m \u001b[0mbanana\u001b[0m\u001b[1;33m\u001b[0m\u001b[1;33m\u001b[0m\u001b[0m\n\u001b[0m\u001b[0;32m      2\u001b[0m \u001b[0mprint\u001b[0m\u001b[1;33m(\u001b[0m\u001b[0mstr_b\u001b[0m\u001b[1;33m)\u001b[0m\u001b[1;33m\u001b[0m\u001b[1;33m\u001b[0m\u001b[0m\n",
      "\u001b[1;31mNameError\u001b[0m: name 'banana' is not defined"
     ]
    }
   ],
   "source": [
    "str_b = banana\n",
    "print(str_b)"
   ]
  },
  {
   "cell_type": "code",
   "execution_count": 12,
   "metadata": {},
   "outputs": [
    {
     "ename": "TypeError",
     "evalue": "string indices must be integers",
     "output_type": "error",
     "traceback": [
      "\u001b[1;31m---------------------------------------------------------------------------\u001b[0m",
      "\u001b[1;31mTypeError\u001b[0m                                 Traceback (most recent call last)",
      "\u001b[1;32m<ipython-input-12-68c37373a7b0>\u001b[0m in \u001b[0;36m<module>\u001b[1;34m\u001b[0m\n\u001b[1;32m----> 1\u001b[1;33m \u001b[0mb_string\u001b[0m\u001b[1;33m[\u001b[0m\u001b[1;36m1\u001b[0m\u001b[1;33m:\u001b[0m\u001b[1;36m2\u001b[0m\u001b[1;33m,\u001b[0m \u001b[1;36m5\u001b[0m\u001b[1;33m:\u001b[0m\u001b[1;36m6\u001b[0m\u001b[1;33m]\u001b[0m\u001b[1;33m\u001b[0m\u001b[1;33m\u001b[0m\u001b[0m\n\u001b[0m",
      "\u001b[1;31mTypeError\u001b[0m: string indices must be integers"
     ]
    }
   ],
   "source": [
    "b_string[1:2, 5:6]"
   ]
  },
  {
   "cell_type": "code",
   "execution_count": 18,
   "metadata": {},
   "outputs": [
    {
     "name": "stdout",
     "output_type": "stream",
     "text": [
      "Eat your mandarin\n",
      "Eat your mandarin\n",
      "Eat your mandarin\n"
     ]
    }
   ],
   "source": [
    "fruits = ['apple', 'tomato', 'banana']    \n",
    "\n",
    "\n",
    "for fruits in fruits:\n",
    "    print(\"Eat your\", fruit)"
   ]
  },
  {
   "cell_type": "code",
   "execution_count": 16,
   "metadata": {},
   "outputs": [
    {
     "name": "stdout",
     "output_type": "stream",
     "text": [
      "Eat your mandarin\n",
      "Eat your mandarin\n",
      "Eat your mandarin\n"
     ]
    }
   ],
   "source": [
    "fruits = ['apple', 'tomato', 'banana']\n",
    "\n",
    "for fruits in fruits:\n",
    "    print(\"Eat your\", fruit)"
   ]
  },
  {
   "cell_type": "code",
   "execution_count": 14,
   "metadata": {},
   "outputs": [
    {
     "name": "stdout",
     "output_type": "stream",
     "text": [
      "Eat your apple\n",
      "Eat your banana\n",
      "Eat your orange\n",
      "Eat your cherry\n",
      "Eat your mandarin\n"
     ]
    }
   ],
   "source": [
    "fruits = ['apple', 'banana', 'orange', 'cherry', 'mandarin']\n",
    "\n",
    "for fruit in fruits:\n",
    "    print(\"Eat your\", fruit)"
   ]
  },
  {
   "cell_type": "code",
   "execution_count": 19,
   "metadata": {},
   "outputs": [],
   "source": [
    "x = 69\n"
   ]
  },
  {
   "cell_type": "code",
   "execution_count": 20,
   "metadata": {},
   "outputs": [
    {
     "name": "stdout",
     "output_type": "stream",
     "text": [
      "Your number is a multiple of 3.\n"
     ]
    }
   ],
   "source": [
    "if x % 3 == 0:\n",
    "    print (\"Your number is a multiple of 3.\")\n",
    "else:\n",
    "    print (\"Your number is not a multiple of 3.\")"
   ]
  },
  {
   "cell_type": "code",
   "execution_count": 21,
   "metadata": {},
   "outputs": [],
   "source": [
    "x = 8946\n"
   ]
  },
  {
   "cell_type": "code",
   "execution_count": 22,
   "metadata": {},
   "outputs": [
    {
     "name": "stdout",
     "output_type": "stream",
     "text": [
      "Your number is divisible by 3, 2, and 6.\n"
     ]
    }
   ],
   "source": [
    "if x % 3 == 0 and x % 2 == 0:\n",
    "    print (\"Your number is divisible by 3, 2, and 6.\")\n",
    "elif x % 3 == 0:\n",
    "    print (\"Your number is divisible by 3.\")\n",
    "elif x % 2 == 0:\n",
    "    print (\"Your number is divisible by 2.\")\n",
    "else:\n",
    "    print (\"Your number is not divisible by 2, 3, or 6.\")"
   ]
  },
  {
   "cell_type": "code",
   "execution_count": 23,
   "metadata": {},
   "outputs": [],
   "source": [
    "import numpy "
   ]
  },
  {
   "cell_type": "code",
   "execution_count": 24,
   "metadata": {},
   "outputs": [
    {
     "data": {
      "text/plain": [
       "array([ 3,  5,  8, 17])"
      ]
     },
     "execution_count": 24,
     "metadata": {},
     "output_type": "execute_result"
    }
   ],
   "source": [
    "numpy.array([3, 5, 8, 17])"
   ]
  },
  {
   "cell_type": "code",
   "execution_count": 25,
   "metadata": {},
   "outputs": [
    {
     "data": {
      "text/plain": [
       "array([2.        , 2.03448276, 2.06896552, 2.10344828, 2.13793103,\n",
       "       2.17241379, 2.20689655, 2.24137931, 2.27586207, 2.31034483,\n",
       "       2.34482759, 2.37931034, 2.4137931 , 2.44827586, 2.48275862,\n",
       "       2.51724138, 2.55172414, 2.5862069 , 2.62068966, 2.65517241,\n",
       "       2.68965517, 2.72413793, 2.75862069, 2.79310345, 2.82758621,\n",
       "       2.86206897, 2.89655172, 2.93103448, 2.96551724, 3.        ])"
      ]
     },
     "execution_count": 25,
     "metadata": {},
     "output_type": "execute_result"
    }
   ],
   "source": [
    "numpy.linspace(2.0, 3.0, 30)"
   ]
  },
  {
   "cell_type": "code",
   "execution_count": 26,
   "metadata": {},
   "outputs": [
    {
     "data": {
      "text/plain": [
       "array([2.        , 2.10344828, 2.20689655, 2.31034483, 2.4137931 ,\n",
       "       2.51724138, 2.62068966, 2.72413793, 2.82758621, 2.93103448,\n",
       "       3.03448276, 3.13793103, 3.24137931, 3.34482759, 3.44827586,\n",
       "       3.55172414, 3.65517241, 3.75862069, 3.86206897, 3.96551724,\n",
       "       4.06896552, 4.17241379, 4.27586207, 4.37931034, 4.48275862,\n",
       "       4.5862069 , 4.68965517, 4.79310345, 4.89655172, 5.        ])"
      ]
     },
     "execution_count": 26,
     "metadata": {},
     "output_type": "execute_result"
    }
   ],
   "source": [
    "numpy.linspace(2.0, 5.0, 30)"
   ]
  },
  {
   "cell_type": "code",
   "execution_count": 27,
   "metadata": {},
   "outputs": [
    {
     "ename": "AttributeError",
     "evalue": "module 'numpy' has no attribute 'arrange'",
     "output_type": "error",
     "traceback": [
      "\u001b[1;31m---------------------------------------------------------------------------\u001b[0m",
      "\u001b[1;31mAttributeError\u001b[0m                            Traceback (most recent call last)",
      "\u001b[1;32m<ipython-input-27-0d5ac34f08c2>\u001b[0m in \u001b[0;36m<module>\u001b[1;34m\u001b[0m\n\u001b[1;32m----> 1\u001b[1;33m \u001b[0ma\u001b[0m \u001b[1;33m=\u001b[0m \u001b[0mnumpy\u001b[0m\u001b[1;33m.\u001b[0m\u001b[0marrange\u001b[0m\u001b[1;33m(\u001b[0m\u001b[1;36m24\u001b[0m\u001b[1;33m)\u001b[0m\u001b[1;33m\u001b[0m\u001b[1;33m\u001b[0m\u001b[0m\n\u001b[0m",
      "\u001b[1;32m~\\anaconda3\\lib\\site-packages\\numpy\\__init__.py\u001b[0m in \u001b[0;36m__getattr__\u001b[1;34m(attr)\u001b[0m\n\u001b[0;32m    217\u001b[0m                 \u001b[1;32mreturn\u001b[0m \u001b[0mTester\u001b[0m\u001b[1;33m\u001b[0m\u001b[1;33m\u001b[0m\u001b[0m\n\u001b[0;32m    218\u001b[0m             \u001b[1;32melse\u001b[0m\u001b[1;33m:\u001b[0m\u001b[1;33m\u001b[0m\u001b[1;33m\u001b[0m\u001b[0m\n\u001b[1;32m--> 219\u001b[1;33m                 raise AttributeError(\"module {!r} has no attribute \"\n\u001b[0m\u001b[0;32m    220\u001b[0m                                      \"{!r}\".format(__name__, attr))\n\u001b[0;32m    221\u001b[0m \u001b[1;33m\u001b[0m\u001b[0m\n",
      "\u001b[1;31mAttributeError\u001b[0m: module 'numpy' has no attribute 'arrange'"
     ]
    }
   ],
   "source": [
    "a = numpy.arrange(24)"
   ]
  },
  {
   "cell_type": "code",
   "execution_count": 28,
   "metadata": {},
   "outputs": [],
   "source": [
    "a = numpy.arange(24)"
   ]
  },
  {
   "cell_type": "code",
   "execution_count": 29,
   "metadata": {},
   "outputs": [
    {
     "name": "stdout",
     "output_type": "stream",
     "text": [
      "[[[ 0  1  2  3]\n",
      "  [ 4  5  6  7]\n",
      "  [ 8  9 10 11]]\n",
      "\n",
      " [[12 13 14 15]\n",
      "  [16 17 18 19]\n",
      "  [20 21 22 23]]]\n"
     ]
    }
   ],
   "source": [
    "a_3d = numpy.reshape(a, (2, 3, 4))\n",
    "print(a_3d)"
   ]
  },
  {
   "cell_type": "code",
   "execution_count": 30,
   "metadata": {},
   "outputs": [
    {
     "data": {
      "text/plain": [
       "(2, 3, 4)"
      ]
     },
     "execution_count": 30,
     "metadata": {},
     "output_type": "execute_result"
    }
   ],
   "source": [
    "numpy.shape(a_3d)"
   ]
  },
  {
   "cell_type": "code",
   "execution_count": 31,
   "metadata": {},
   "outputs": [
    {
     "data": {
      "text/plain": [
       "array([[ 0,  4,  8],\n",
       "       [12, 16, 20]])"
      ]
     },
     "execution_count": 31,
     "metadata": {},
     "output_type": "execute_result"
    }
   ],
   "source": [
    "a_3d[:, :, 0]"
   ]
  },
  {
   "cell_type": "code",
   "execution_count": 32,
   "metadata": {},
   "outputs": [
    {
     "data": {
      "text/plain": [
       "8"
      ]
     },
     "execution_count": 32,
     "metadata": {},
     "output_type": "execute_result"
    }
   ],
   "source": [
    "a_3d[0, 2, 0]"
   ]
  },
  {
   "cell_type": "code",
   "execution_count": 33,
   "metadata": {},
   "outputs": [
    {
     "data": {
      "text/plain": [
       "array([13, 14])"
      ]
     },
     "execution_count": 33,
     "metadata": {},
     "output_type": "execute_result"
    }
   ],
   "source": [
    "a_3d[1, 0, 1:3]"
   ]
  },
  {
   "cell_type": "code",
   "execution_count": 34,
   "metadata": {},
   "outputs": [
    {
     "ename": "IndexError",
     "evalue": "index 2 is out of bounds for axis 0 with size 2",
     "output_type": "error",
     "traceback": [
      "\u001b[1;31m---------------------------------------------------------------------------\u001b[0m",
      "\u001b[1;31mIndexError\u001b[0m                                Traceback (most recent call last)",
      "\u001b[1;32m<ipython-input-34-4e63064daf06>\u001b[0m in \u001b[0;36m<module>\u001b[1;34m\u001b[0m\n\u001b[1;32m----> 1\u001b[1;33m \u001b[0ma_3d\u001b[0m\u001b[1;33m[\u001b[0m\u001b[1;36m2\u001b[0m\u001b[1;33m,\u001b[0m \u001b[1;36m0\u001b[0m\u001b[1;33m,\u001b[0m \u001b[1;36m1\u001b[0m\u001b[1;33m:\u001b[0m\u001b[1;36m3\u001b[0m\u001b[1;33m]\u001b[0m\u001b[1;33m\u001b[0m\u001b[1;33m\u001b[0m\u001b[0m\n\u001b[0m",
      "\u001b[1;31mIndexError\u001b[0m: index 2 is out of bounds for axis 0 with size 2"
     ]
    }
   ],
   "source": [
    "a_3d[2, 0, 1:3]"
   ]
  },
  {
   "cell_type": "code",
   "execution_count": 35,
   "metadata": {},
   "outputs": [
    {
     "data": {
      "text/plain": [
       "array([17, 18])"
      ]
     },
     "execution_count": 35,
     "metadata": {},
     "output_type": "execute_result"
    }
   ],
   "source": [
    "a_3d[1, 1, 1:3]"
   ]
  },
  {
   "cell_type": "code",
   "execution_count": 36,
   "metadata": {},
   "outputs": [],
   "source": [
    "import random "
   ]
  },
  {
   "cell_type": "code",
   "execution_count": 37,
   "metadata": {},
   "outputs": [],
   "source": [
    "lst_1 = random.sample(range(100), 100)\n",
    "lst_2 = random.sample(range(100), 100)"
   ]
  },
  {
   "cell_type": "code",
   "execution_count": 38,
   "metadata": {},
   "outputs": [
    {
     "name": "stdout",
     "output_type": "stream",
     "text": [
      "[34, 89, 70, 35, 12, 1, 26, 4, 27, 2]\n",
      "[30, 34, 84, 25, 3, 9, 74, 70, 81, 27]\n"
     ]
    }
   ],
   "source": [
    "print(lst_1[0:10])\n",
    "print(lst_2[0:10])"
   ]
  },
  {
   "cell_type": "code",
   "execution_count": 39,
   "metadata": {},
   "outputs": [
    {
     "name": "stdout",
     "output_type": "stream",
     "text": [
      "Wall time: 0 ns\n"
     ]
    }
   ],
   "source": [
    "%%time\n",
    "res_lst = []\n",
    "for i in range(100):\n",
    "    res_lst.append(lst_1[i] + lst_2[i])"
   ]
  },
  {
   "cell_type": "code",
   "execution_count": 40,
   "metadata": {},
   "outputs": [
    {
     "name": "stdout",
     "output_type": "stream",
     "text": [
      "Wall time: 0 ns\n"
     ]
    }
   ],
   "source": [
    "%%time\n",
    "res_lst = []\n",
    "for i in range(100):\n",
    "    res_lst.append(lst_1[i] + lst_2[i])"
   ]
  },
  {
   "cell_type": "code",
   "execution_count": 41,
   "metadata": {},
   "outputs": [
    {
     "name": "stdout",
     "output_type": "stream",
     "text": [
      "[64, 123, 154, 60, 15, 10, 100, 74, 108, 29]\n"
     ]
    }
   ],
   "source": [
    "print(res_lst[0:10])"
   ]
  },
  {
   "cell_type": "code",
   "execution_count": 43,
   "metadata": {},
   "outputs": [],
   "source": [
    "arr_1 = numpy.random.randint(0, 100, size=100)\n",
    "arr_2 = numpy.random.randint(0, 100, size=100)"
   ]
  },
  {
   "cell_type": "code",
   "execution_count": 44,
   "metadata": {},
   "outputs": [
    {
     "name": "stdout",
     "output_type": "stream",
     "text": [
      "[66 75 33 98  1 79 97 53 93 71]\n",
      "[82 62 29 35 67 18 91 89 13 69]\n"
     ]
    }
   ],
   "source": [
    "print(arr_1[0:10])\n",
    "print(arr_2[0:10])"
   ]
  },
  {
   "cell_type": "code",
   "execution_count": 45,
   "metadata": {},
   "outputs": [
    {
     "name": "stdout",
     "output_type": "stream",
     "text": [
      "Wall time: 0 ns\n"
     ]
    }
   ],
   "source": [
    "%%time\n",
    "arr_res = arr_1 + arr_2"
   ]
  },
  {
   "cell_type": "code",
   "execution_count": 46,
   "metadata": {},
   "outputs": [
    {
     "name": "stdout",
     "output_type": "stream",
     "text": [
      "[0.   0.05 0.1  0.15 0.2  0.25 0.3  0.35 0.4  0.45 0.5  0.55 0.6  0.65\n",
      " 0.7  0.75 0.8  0.85 0.9  0.95 1.   1.05 1.1  1.15 1.2  1.25 1.3  1.35\n",
      " 1.4  1.45 1.5  1.55 1.6  1.65 1.7  1.75 1.8  1.85 1.9  1.95 2.  ]\n"
     ]
    }
   ],
   "source": [
    "xarray = numpy.linspace(0, 2, 41)\n",
    "print(xarray)"
   ]
  },
  {
   "cell_type": "code",
   "execution_count": 48,
   "metadata": {},
   "outputs": [],
   "source": [
    "pow2 = xarray**2\n",
    "pow3 = xarray**3\n",
    "pow_half = numpy.sqrt(xarray)"
   ]
  },
  {
   "cell_type": "code",
   "execution_count": 50,
   "metadata": {},
   "outputs": [],
   "source": [
    "from matplotlib import pyplot\n",
    "%matplotlib inline"
   ]
  },
  {
   "cell_type": "code",
   "execution_count": 54,
   "metadata": {},
   "outputs": [
    {
     "data": {
      "image/png": "[encoded data removed]",
      "text/plain": [
       "<Figure size 432x288 with 1 Axes>"
      ]
     },
     "metadata": {
      "needs_background": "light"
     },
     "output_type": "display_data"
    }
   ],
   "source": [
    "#Plot x^2\n",
    "pyplot.plot(xarray, pow2, color='k', linestyle='-', label='square')\n",
    "#Plot x^3\n",
    "pyplot.plot(xarray, pow3, color='k', linestyle='--', label='cube')\n",
    "#Plot sqrt(x)\n",
    "pyplot.plot(xarray, pow_half, color='k', linestyle=':', label='square root')\n",
    "#Plot the legends in the best location\n",
    "pyplot.legend(loc='best');"
   ]
  },
  {
   "cell_type": "code",
   "execution_count": 60,
   "metadata": {},
   "outputs": [
    {
     "ename": "NameError",
     "evalue": "name 'pow_4' is not defined",
     "output_type": "error",
     "traceback": [
      "\u001b[1;31m---------------------------------------------------------------------------\u001b[0m",
      "\u001b[1;31mNameError\u001b[0m                                 Traceback (most recent call last)",
      "\u001b[1;32m<ipython-input-60-39b6100252cc>\u001b[0m in \u001b[0;36m<module>\u001b[1;34m\u001b[0m\n\u001b[0;32m      4\u001b[0m \u001b[0mpyplot\u001b[0m\u001b[1;33m.\u001b[0m\u001b[0mplot\u001b[0m\u001b[1;33m(\u001b[0m\u001b[0mxarray\u001b[0m\u001b[1;33m,\u001b[0m \u001b[0mpow3\u001b[0m\u001b[1;33m,\u001b[0m \u001b[0mcolor\u001b[0m\u001b[1;33m=\u001b[0m\u001b[1;34m'green'\u001b[0m\u001b[1;33m,\u001b[0m \u001b[0mlinestyle\u001b[0m\u001b[1;33m=\u001b[0m\u001b[1;34m'-'\u001b[0m\u001b[1;33m,\u001b[0m \u001b[0mlabel\u001b[0m\u001b[1;33m=\u001b[0m\u001b[1;34m'$x^3$'\u001b[0m\u001b[1;33m)\u001b[0m\u001b[1;33m\u001b[0m\u001b[1;33m\u001b[0m\u001b[0m\n\u001b[0;32m      5\u001b[0m \u001b[1;31m#Plot sqrt(x)\u001b[0m\u001b[1;33m\u001b[0m\u001b[1;33m\u001b[0m\u001b[1;33m\u001b[0m\u001b[0m\n\u001b[1;32m----> 6\u001b[1;33m \u001b[0mpyplot\u001b[0m\u001b[1;33m.\u001b[0m\u001b[0mplot\u001b[0m\u001b[1;33m(\u001b[0m\u001b[0mxarray\u001b[0m\u001b[1;33m,\u001b[0m \u001b[0mpow_4\u001b[0m\u001b[1;33m,\u001b[0m \u001b[0mcolor\u001b[0m\u001b[1;33m=\u001b[0m\u001b[1;34m'blue'\u001b[0m\u001b[1;33m,\u001b[0m \u001b[0mlinestyle\u001b[0m\u001b[1;33m=\u001b[0m\u001b[1;34m'-'\u001b[0m\u001b[1;33m,\u001b[0m \u001b[0mlabel\u001b[0m\u001b[1;33m=\u001b[0m\u001b[1;34m'$\\sqrt{x}$'\u001b[0m\u001b[1;33m)\u001b[0m\u001b[1;33m\u001b[0m\u001b[1;33m\u001b[0m\u001b[0m\n\u001b[0m\u001b[0;32m      7\u001b[0m \u001b[1;31m#Plot the legends in the best location\u001b[0m\u001b[1;33m\u001b[0m\u001b[1;33m\u001b[0m\u001b[1;33m\u001b[0m\u001b[0m\n\u001b[0;32m      8\u001b[0m \u001b[0mpyplot\u001b[0m\u001b[1;33m.\u001b[0m\u001b[0mlegend\u001b[0m\u001b[1;33m(\u001b[0m\u001b[0mloc\u001b[0m\u001b[1;33m=\u001b[0m\u001b[1;34m'best'\u001b[0m\u001b[1;33m)\u001b[0m\u001b[1;33m;\u001b[0m\u001b[1;33m\u001b[0m\u001b[1;33m\u001b[0m\u001b[0m\n",
      "\u001b[1;31mNameError\u001b[0m: name 'pow_4' is not defined"
     ]
    },
    {
     "data": {
      "image/png": "[encoded data removed]",
      "text/plain": [
       "<Figure size 432x288 with 1 Axes>"
      ]
     },
     "metadata": {
      "needs_background": "light"
     },
     "output_type": "display_data"
    }
   ],
   "source": [
    "#Plot x^2\n",
    "pyplot.plot(xarray, pow2, color='red', linestyle='-', label='$x^2$')\n",
    "#Plot x^3\n",
    "pyplot.plot(xarray, pow3, color='green', linestyle='-', label='$x^3$')\n",
    "#Plot sqrt(x)\n",
    "pyplot.plot(xarray, pow_4, color='blue', linestyle='-', label='$\\sqrt{x}$')\n",
    "#Plot the legends in the best location\n",
    "pyplot.legend(loc='best'); "
   ]
  },
  {
   "cell_type": "code",
   "execution_count": 56,
   "metadata": {},
   "outputs": [
    {
     "ename": "NameError",
     "evalue": "name 'py' is not defined",
     "output_type": "error",
     "traceback": [
      "\u001b[1;31m---------------------------------------------------------------------------\u001b[0m",
      "\u001b[1;31mNameError\u001b[0m                                 Traceback (most recent call last)",
      "\u001b[1;32m<ipython-input-56-01deabd94b3e>\u001b[0m in \u001b[0;36m<module>\u001b[1;34m\u001b[0m\n\u001b[1;32m----> 1\u001b[1;33m \u001b[0mpy\u001b[0m\u001b[1;33m.\u001b[0m\u001b[0mplot\u001b[0m\u001b[1;33m(\u001b[0m\u001b[0mxarray\u001b[0m\u001b[1;33m,\u001b[0m \u001b[0mpow_fourth\u001b[0m\u001b[1;33m,\u001b[0m \u001b[0mcolor\u001b[0m\u001b[1;33m=\u001b[0m\u001b[1;34m'blue'\u001b[0m\u001b[1;33m,\u001b[0m \u001b[0mlinestyle\u001b[0m\u001b[1;33m=\u001b[0m\u001b[1;34m'-'\u001b[0m\u001b[1;33m)\u001b[0m\u001b[1;33m\u001b[0m\u001b[1;33m\u001b[0m\u001b[0m\n\u001b[0m",
      "\u001b[1;31mNameError\u001b[0m: name 'py' is not defined"
     ]
    }
   ],
   "source": [
    "py.plot(xarray, pow_fourth, color='blue', linestyle='-')"
   ]
  },
  {
   "cell_type": "code",
   "execution_count": 1,
   "metadata": {},
   "outputs": [
    {
     "name": "stdout",
     "output_type": "stream",
     "text": [
      "Running test.py\n",
      "Result is 15\n"
     ]
    }
   ],
   "source": [
    "# file: test.py\n",
    "print(\"Running test.py\")\n",
    "x=5\n",
    "print(\"Result is\", 3 * x)"
   ]
  },
  {
   "cell_type": "code",
   "execution_count": 2,
   "metadata": {},
   "outputs": [
    {
     "data": {
      "text/plain": [
       "2.5"
      ]
     },
     "execution_count": 2,
     "metadata": {},
     "output_type": "execute_result"
    }
   ],
   "source": [
    "5/2"
   ]
  },
  {
   "cell_type": "code",
   "execution_count": 3,
   "metadata": {},
   "outputs": [
    {
     "ename": "TypeError",
     "evalue": "type() takes 1 or 3 arguments",
     "output_type": "error",
     "traceback": [
      "\u001b[1;31m---------------------------------------------------------------------------\u001b[0m",
      "\u001b[1;31mTypeError\u001b[0m                                 Traceback (most recent call last)",
      "\u001b[1;32m<ipython-input-3-ff6dcb82abed>\u001b[0m in \u001b[0;36m<module>\u001b[1;34m\u001b[0m\n\u001b[1;32m----> 1\u001b[1;33m \u001b[0mtype\u001b[0m\u001b[1;33m(\u001b[0m\u001b[1;33m)\u001b[0m\u001b[1;33m\u001b[0m\u001b[1;33m\u001b[0m\u001b[0m\n\u001b[0m",
      "\u001b[1;31mTypeError\u001b[0m: type() takes 1 or 3 arguments"
     ]
    }
   ],
   "source": [
    "type()"
   ]
  },
  {
   "cell_type": "code",
   "execution_count": 4,
   "metadata": {},
   "outputs": [
    {
     "data": {
      "text/plain": [
       "False"
      ]
     },
     "execution_count": 4,
     "metadata": {},
     "output_type": "execute_result"
    }
   ],
   "source": [
    "0.1 + 0.2 == 0.3"
   ]
  },
  {
   "cell_type": "code",
   "execution_count": 5,
   "metadata": {},
   "outputs": [],
   "source": [
    "numbers = {'one':1, 'two':2, 'three':3}"
   ]
  },
  {
   "cell_type": "code",
   "execution_count": 6,
   "metadata": {},
   "outputs": [
    {
     "data": {
      "text/plain": [
       "2"
      ]
     },
     "execution_count": 6,
     "metadata": {},
     "output_type": "execute_result"
    }
   ],
   "source": [
    "numbers['two']"
   ]
  },
  {
   "cell_type": "code",
   "execution_count": 7,
   "metadata": {},
   "outputs": [
    {
     "name": "stdout",
     "output_type": "stream",
     "text": [
      "{'one': 1, 'two': 2, 'three': 3, 'ninety': 90}\n"
     ]
    }
   ],
   "source": [
    "numbers ['ninety']=90 \n",
    "print (numbers)"
   ]
  },
  {
   "cell_type": "code",
   "execution_count": 11,
   "metadata": {},
   "outputs": [],
   "source": [
    "def safe_divide (a, b):\n",
    "    try:\n",
    "        return a / b\n",
    "    except ZeroDivisionError:\n",
    "        return 1e100"
   ]
  },
  {
   "cell_type": "code",
   "execution_count": null,
   "metadata": {},
   "outputs": [],
   "source": []
  },
  {
   "cell_type": "code",
   "execution_count": 10,
   "metadata": {},
   "outputs": [],
   "source": [
    "def safe_divide(a, b):\n",
    "    try:\n",
    "        return a / b\n",
    "    except ZeroDivisionError:\n",
    "        return 1E100"
   ]
  },
  {
   "cell_type": "code",
   "execution_count": 12,
   "metadata": {},
   "outputs": [
    {
     "data": {
      "text/plain": [
       "0.5"
      ]
     },
     "execution_count": 12,
     "metadata": {},
     "output_type": "execute_result"
    }
   ],
   "source": [
    "safe_divide (1, 2)"
   ]
  },
  {
   "cell_type": "code",
   "execution_count": 13,
   "metadata": {},
   "outputs": [
    {
     "ename": "TypeError",
     "evalue": "unsupported operand type(s) for /: 'int' and 'str'",
     "output_type": "error",
     "traceback": [
      "\u001b[1;31m---------------------------------------------------------------------------\u001b[0m",
      "\u001b[1;31mTypeError\u001b[0m                                 Traceback (most recent call last)",
      "\u001b[1;32m<ipython-input-13-c44ff55d88d5>\u001b[0m in \u001b[0;36m<module>\u001b[1;34m\u001b[0m\n\u001b[1;32m----> 1\u001b[1;33m \u001b[0msafe_divide\u001b[0m \u001b[1;33m(\u001b[0m\u001b[1;36m1\u001b[0m\u001b[1;33m,\u001b[0m \u001b[1;34m'2'\u001b[0m\u001b[1;33m)\u001b[0m\u001b[1;33m\u001b[0m\u001b[1;33m\u001b[0m\u001b[0m\n\u001b[0m",
      "\u001b[1;32m<ipython-input-11-900b333af126>\u001b[0m in \u001b[0;36msafe_divide\u001b[1;34m(a, b)\u001b[0m\n\u001b[0;32m      1\u001b[0m \u001b[1;32mdef\u001b[0m \u001b[0msafe_divide\u001b[0m \u001b[1;33m(\u001b[0m\u001b[0ma\u001b[0m\u001b[1;33m,\u001b[0m \u001b[0mb\u001b[0m\u001b[1;33m)\u001b[0m\u001b[1;33m:\u001b[0m\u001b[1;33m\u001b[0m\u001b[1;33m\u001b[0m\u001b[0m\n\u001b[0;32m      2\u001b[0m     \u001b[1;32mtry\u001b[0m\u001b[1;33m:\u001b[0m\u001b[1;33m\u001b[0m\u001b[1;33m\u001b[0m\u001b[0m\n\u001b[1;32m----> 3\u001b[1;33m         \u001b[1;32mreturn\u001b[0m \u001b[0ma\u001b[0m \u001b[1;33m/\u001b[0m \u001b[0mb\u001b[0m\u001b[1;33m\u001b[0m\u001b[1;33m\u001b[0m\u001b[0m\n\u001b[0m\u001b[0;32m      4\u001b[0m     \u001b[1;32mexcept\u001b[0m \u001b[0mZeroDivisionError\u001b[0m\u001b[1;33m:\u001b[0m\u001b[1;33m\u001b[0m\u001b[1;33m\u001b[0m\u001b[0m\n\u001b[0;32m      5\u001b[0m         \u001b[1;32mreturn\u001b[0m \u001b[1;36m1e100\u001b[0m\u001b[1;33m\u001b[0m\u001b[1;33m\u001b[0m\u001b[0m\n",
      "\u001b[1;31mTypeError\u001b[0m: unsupported operand type(s) for /: 'int' and 'str'"
     ]
    }
   ],
   "source": [
    "safe_divide (1, '2')"
   ]
  },
  {
   "cell_type": "code",
   "execution_count": 1,
   "metadata": {},
   "outputs": [
    {
     "data": {
      "text/plain": [
       "<generator object <genexpr> at 0x000001F35F022270>"
      ]
     },
     "execution_count": 1,
     "metadata": {},
     "output_type": "execute_result"
    }
   ],
   "source": [
    "(n ** 2 for n in range(12))"
   ]
  },
  {
   "cell_type": "code",
   "execution_count": 2,
   "metadata": {},
   "outputs": [
    {
     "data": {
      "text/plain": [
       "[0, 1, 4, 9, 16, 25, 36, 49, 64, 81, 100, 121]"
      ]
     },
     "execution_count": 2,
     "metadata": {},
     "output_type": "execute_result"
    }
   ],
   "source": [
    "G = (n ** 2 for n in range(12))\n",
    "list(G)"
   ]
  },
  {
   "cell_type": "code",
   "execution_count": 3,
   "metadata": {},
   "outputs": [
    {
     "name": "stdout",
     "output_type": "stream",
     "text": [
      "0 1 4 9 16 25 36 \\hello cocksniffer\n"
     ]
    }
   ],
   "source": [
    "G = (n ** 2 for n in range(12))\n",
    "for n in G:\n",
    "    print(n, end=' ')\n",
    "    if n >30: break\n",
    "        \n",
    "print(\"\\hello cocksniffer\")"
   ]
  },
  {
   "cell_type": "code",
   "execution_count": 6,
   "metadata": {},
   "outputs": [
    {
     "name": "stdout",
     "output_type": "stream",
     "text": [
      "0 1 4 9 16 25 36 \\hello friend\n",
      "49 64 81 100 121 "
     ]
    }
   ],
   "source": [
    "G = (n ** 2 for n in range(12))\n",
    "for n in G:\n",
    "    print(n, end=' ')\n",
    "    if n >30: break\n",
    "        \n",
    "print(\"\\hello friend\")\n",
    "\n",
    "for n in G: \n",
    "    print(n, end=' ')"
   ]
  },
  {
   "cell_type": "code",
   "execution_count": 5,
   "metadata": {},
   "outputs": [
    {
     "name": "stdout",
     "output_type": "stream",
     "text": [
      "2 3 5 7 11 13 17 19 23 29 31 37 41 43 47 53 59 61 67 71 73 79 83 89 97\n"
     ]
    }
   ],
   "source": [
    "def gen_primes(N):\n",
    "    primes = set()\n",
    "    for n in range (2, N):\n",
    "        if all(n % p > 0 for p in primes):\n",
    "            primes.add(n)\n",
    "            yield n\n",
    "\n",
    "print(*gen_primes(100))"
   ]
  },
  {
   "cell_type": "code",
   "execution_count": 6,
   "metadata": {},
   "outputs": [
    {
     "data": {
      "text/plain": [
       "'The Quick Brown Fox.'"
      ]
     },
     "execution_count": 6,
     "metadata": {},
     "output_type": "execute_result"
    }
   ],
   "source": [
    "fox = \"tHe qUICk bROWn fOx.\"\n",
    "fox.title()"
   ]
  },
  {
   "cell_type": "code",
   "execution_count": 7,
   "metadata": {},
   "outputs": [
    {
     "ename": "NameError",
     "evalue": "name 'line' is not defined",
     "output_type": "error",
     "traceback": [
      "\u001b[1;31m---------------------------------------------------------------------------\u001b[0m",
      "\u001b[1;31mNameError\u001b[0m                                 Traceback (most recent call last)",
      "\u001b[1;32m<ipython-input-7-6b0adeffee94>\u001b[0m in \u001b[0;36m<module>\u001b[1;34m\u001b[0m\n\u001b[1;32m----> 1\u001b[1;33m \u001b[0mline\u001b[0m\u001b[1;33m.\u001b[0m\u001b[0mreplace\u001b[0m\u001b[1;33m(\u001b[0m\u001b[1;34m'brown'\u001b[0m\u001b[1;33m,\u001b[0m \u001b[1;34m'red'\u001b[0m\u001b[1;33m)\u001b[0m\u001b[1;33m\u001b[0m\u001b[1;33m\u001b[0m\u001b[0m\n\u001b[0m",
      "\u001b[1;31mNameError\u001b[0m: name 'line' is not defined"
     ]
    }
   ],
   "source": [
    "line.replace('brown', 'red')"
   ]
  },
  {
   "cell_type": "code",
   "execution_count": 8,
   "metadata": {},
   "outputs": [
    {
     "data": {
      "text/plain": [
       "'tHe qUICk bROWn fOx.'"
      ]
     },
     "execution_count": 8,
     "metadata": {},
     "output_type": "execute_result"
    }
   ],
   "source": [
    "fox.replace('brown', 'red')"
   ]
  },
  {
   "cell_type": "code",
   "execution_count": 9,
   "metadata": {},
   "outputs": [
    {
     "name": "stdout",
     "output_type": "stream",
     "text": [
      "fox\n"
     ]
    }
   ],
   "source": [
    "print('fox')"
   ]
  },
  {
   "cell_type": "code",
   "execution_count": 10,
   "metadata": {},
   "outputs": [
    {
     "name": "stdout",
     "output_type": "stream",
     "text": [
      "tHe qUICk bROWn fOx.\n"
     ]
    }
   ],
   "source": [
    "print(fox)"
   ]
  },
  {
   "cell_type": "code",
   "execution_count": 14,
   "metadata": {},
   "outputs": [
    {
     "data": {
      "text/plain": [
       "array([1, 2, 3, 4, 5, 6, 7, 8, 9])"
      ]
     },
     "execution_count": 14,
     "metadata": {},
     "output_type": "execute_result"
    }
   ],
   "source": [
    "import numpy as np\n",
    "x = np.arange(1, 10)\n",
    "x"
   ]
  },
  {
   "cell_type": "code",
   "execution_count": 15,
   "metadata": {},
   "outputs": [
    {
     "data": {
      "text/plain": [
       "array([ 1,  4,  9, 16, 25, 36, 49, 64, 81], dtype=int32)"
      ]
     },
     "execution_count": 15,
     "metadata": {},
     "output_type": "execute_result"
    }
   ],
   "source": [
    "x ** 2"
   ]
  },
  {
   "cell_type": "code",
   "execution_count": 17,
   "metadata": {},
   "outputs": [
    {
     "data": {
      "text/plain": [
       "array([[1, 2, 3],\n",
       "       [4, 5, 6],\n",
       "       [7, 8, 9]])"
      ]
     },
     "execution_count": 17,
     "metadata": {},
     "output_type": "execute_result"
    }
   ],
   "source": [
    "M = x.reshape(3, 3)\n",
    "M"
   ]
  },
  {
   "cell_type": "code",
   "execution_count": 18,
   "metadata": {},
   "outputs": [
    {
     "data": {
      "text/plain": [
       "array([[1, 4, 7],\n",
       "       [2, 5, 8],\n",
       "       [3, 6, 9]])"
      ]
     },
     "execution_count": 18,
     "metadata": {},
     "output_type": "execute_result"
    }
   ],
   "source": [
    "M.T"
   ]
  },
  {
   "cell_type": "code",
   "execution_count": 19,
   "metadata": {},
   "outputs": [
    {
     "data": {
      "text/plain": [
       "array([[1, 4, 7],\n",
       "       [2, 5, 8],\n",
       "       [3, 6, 9]])"
      ]
     },
     "execution_count": 19,
     "metadata": {},
     "output_type": "execute_result"
    }
   ],
   "source": [
    "M.T"
   ]
  },
  {
   "cell_type": "code",
   "execution_count": 20,
   "metadata": {},
   "outputs": [
    {
     "data": {
      "text/html": [
       "<div>\n",
       "<style scoped>\n",
       "    .dataframe tbody tr th:only-of-type {\n",
       "        vertical-align: middle;\n",
       "    }\n",
       "\n",
       "    .dataframe tbody tr th {\n",
       "        vertical-align: top;\n",
       "    }\n",
       "\n",
       "    .dataframe thead th {\n",
       "        text-align: right;\n",
       "    }\n",
       "</style>\n",
       "<table border=\"1\" class=\"dataframe\">\n",
       "  <thead>\n",
       "    <tr style=\"text-align: right;\">\n",
       "      <th></th>\n",
       "      <th>label</th>\n",
       "      <th>value</th>\n",
       "    </tr>\n",
       "  </thead>\n",
       "  <tbody>\n",
       "    <tr>\n",
       "      <th>0</th>\n",
       "      <td>A</td>\n",
       "      <td>1</td>\n",
       "    </tr>\n",
       "    <tr>\n",
       "      <th>1</th>\n",
       "      <td>B</td>\n",
       "      <td>2</td>\n",
       "    </tr>\n",
       "    <tr>\n",
       "      <th>2</th>\n",
       "      <td>C</td>\n",
       "      <td>3</td>\n",
       "    </tr>\n",
       "    <tr>\n",
       "      <th>3</th>\n",
       "      <td>A</td>\n",
       "      <td>4</td>\n",
       "    </tr>\n",
       "    <tr>\n",
       "      <th>4</th>\n",
       "      <td>B</td>\n",
       "      <td>5</td>\n",
       "    </tr>\n",
       "    <tr>\n",
       "      <th>5</th>\n",
       "      <td>C</td>\n",
       "      <td>6</td>\n",
       "    </tr>\n",
       "  </tbody>\n",
       "</table>\n",
       "</div>"
      ],
      "text/plain": [
       "  label  value\n",
       "0     A      1\n",
       "1     B      2\n",
       "2     C      3\n",
       "3     A      4\n",
       "4     B      5\n",
       "5     C      6"
      ]
     },
     "execution_count": 20,
     "metadata": {},
     "output_type": "execute_result"
    }
   ],
   "source": [
    "import pandas as pd\n",
    "df = pd.DataFrame({'label': ['A', 'B', 'C', 'A', 'B', 'C'],\n",
    "                   'value': [1, 2, 3, 4, 5, 6]})\n",
    "df"
   ]
  },
  {
   "cell_type": "code",
   "execution_count": 21,
   "metadata": {},
   "outputs": [
    {
     "data": {
      "text/html": [
       "<div>\n",
       "<style scoped>\n",
       "    .dataframe tbody tr th:only-of-type {\n",
       "        vertical-align: middle;\n",
       "    }\n",
       "\n",
       "    .dataframe tbody tr th {\n",
       "        vertical-align: top;\n",
       "    }\n",
       "\n",
       "    .dataframe thead th {\n",
       "        text-align: right;\n",
       "    }\n",
       "</style>\n",
       "<table border=\"1\" class=\"dataframe\">\n",
       "  <thead>\n",
       "    <tr style=\"text-align: right;\">\n",
       "      <th></th>\n",
       "      <th>value</th>\n",
       "    </tr>\n",
       "    <tr>\n",
       "      <th>label</th>\n",
       "      <th></th>\n",
       "    </tr>\n",
       "  </thead>\n",
       "  <tbody>\n",
       "    <tr>\n",
       "      <th>A</th>\n",
       "      <td>5</td>\n",
       "    </tr>\n",
       "    <tr>\n",
       "      <th>B</th>\n",
       "      <td>7</td>\n",
       "    </tr>\n",
       "    <tr>\n",
       "      <th>C</th>\n",
       "      <td>9</td>\n",
       "    </tr>\n",
       "  </tbody>\n",
       "</table>\n",
       "</div>"
      ],
      "text/plain": [
       "       value\n",
       "label       \n",
       "A          5\n",
       "B          7\n",
       "C          9"
      ]
     },
     "execution_count": 21,
     "metadata": {},
     "output_type": "execute_result"
    }
   ],
   "source": [
    "df.groupby('label').sum()"
   ]
  },
  {
   "cell_type": "code",
   "execution_count": 22,
   "metadata": {},
   "outputs": [],
   "source": [
    "%matplotlib notebook"
   ]
  },
  {
   "cell_type": "code",
   "execution_count": 23,
   "metadata": {},
   "outputs": [],
   "source": [
    "import matplotlib.pyplot as plt\n",
    "plt.style.use('ggplot')"
   ]
  },
  {
   "cell_type": "code",
   "execution_count": 26,
   "metadata": {},
   "outputs": [
    {
     "data": {
      "application/javascript": [
       "/* Put everything inside the global mpl namespace */\n",
       "window.mpl = {};\n",
       "\n",
       "\n",
       "mpl.get_websocket_type = function() {\n",
       "    if (typeof(WebSocket) !== 'undefined') {\n",
       "        return WebSocket;\n",
       "    } else if (typeof(MozWebSocket) !== 'undefined') {\n",
       "        return MozWebSocket;\n",
       "    } else {\n",
       "        alert('Your browser does not have WebSocket support. ' +\n",
       "              'Please try Chrome, Safari or Firefox ≥ 6. ' +\n",
       "              'Firefox 4 and 5 are also supported but you ' +\n",
       "              'have to enable WebSockets in about:config.');\n",
       "    };\n",
       "}\n",
       "\n",
       "mpl.figure = function(figure_id, websocket, ondownload, parent_element) {\n",
       "    this.id = figure_id;\n",
       "\n",
       "    this.ws = websocket;\n",
       "\n",
       "    this.supports_binary = (this.ws.binaryType != undefined);\n",
       "\n",
       "    if (!this.supports_binary) {\n",
       "        var warnings = document.getElementById(\"mpl-warnings\");\n",
       "        if (warnings) {\n",
       "            warnings.style.display = 'block';\n",
       "            warnings.textContent = (\n",
       "                \"This browser does not support binary websocket messages. \" +\n",
       "                    \"Performance may be slow.\");\n",
       "        }\n",
       "    }\n",
       "\n",
       "    this.imageObj = new Image();\n",
       "\n",
       "    this.context = undefined;\n",
       "    this.message = undefined;\n",
       "    this.canvas = undefined;\n",
       "    this.rubberband_canvas = undefined;\n",
       "    this.rubberband_context = undefined;\n",
       "    this.format_dropdown = undefined;\n",
       "\n",
       "    this.image_mode = 'full';\n",
       "\n",
       "    this.root = $('<div/>');\n",
       "    this._root_extra_style(this.root)\n",
       "    this.root.attr('style', 'display: inline-block');\n",
       "\n",
       "    $(parent_element).append(this.root);\n",
       "\n",
       "    this._init_header(this);\n",
       "    this._init_canvas(this);\n",
       "    this._init_toolbar(this);\n",
       "\n",
       "    var fig = this;\n",
       "\n",
       "    this.waiting = false;\n",
       "\n",
       "    this.ws.onopen =  function () {\n",
       "            fig.send_message(\"supports_binary\", {value: fig.supports_binary});\n",
       "            fig.send_message(\"send_image_mode\", {});\n",
       "            if (mpl.ratio != 1) {\n",
       "                fig.send_message(\"set_dpi_ratio\", {'dpi_ratio': mpl.ratio});\n",
       "            }\n",
       "            fig.send_message(\"refresh\", {});\n",
       "        }\n",
       "\n",
       "    this.imageObj.onload = function() {\n",
       "            if (fig.image_mode == 'full') {\n",
       "                // Full images could contain transparency (where diff images\n",
       "                // almost always do), so we need to clear the canvas so that\n",
       "                // there is no ghosting.\n",
       "                fig.context.clearRect(0, 0, fig.canvas.width, fig.canvas.height);\n",
       "            }\n",
       "            fig.context.drawImage(fig.imageObj, 0, 0);\n",
       "        };\n",
       "\n",
       "    this.imageObj.onunload = function() {\n",
       "        fig.ws.close();\n",
       "    }\n",
       "\n",
       "    this.ws.onmessage = this._make_on_message_function(this);\n",
       "\n",
       "    this.ondownload = ondownload;\n",
       "}\n",
       "\n",
       "mpl.figure.prototype._init_header = function() {\n",
       "    var titlebar = $(\n",
       "        '<div class=\"ui-dialog-titlebar ui-widget-header ui-corner-all ' +\n",
       "        'ui-helper-clearfix\"/>');\n",
       "    var titletext = $(\n",
       "        '<div class=\"ui-dialog-title\" style=\"width: 100%; ' +\n",
       "        'text-align: center; padding: 3px;\"/>');\n",
       "    titlebar.append(titletext)\n",
       "    this.root.append(titlebar);\n",
       "    this.header = titletext[0];\n",
       "}\n",
       "\n",
       "\n",
       "\n",
       "mpl.figure.prototype._canvas_extra_style = function(canvas_div) {\n",
       "\n",
       "}\n",
       "\n",
       "\n",
       "mpl.figure.prototype._root_extra_style = function(canvas_div) {\n",
       "\n",
       "}\n",
       "\n",
       "mpl.figure.prototype._init_canvas = function() {\n",
       "    var fig = this;\n",
       "\n",
       "    var canvas_div = $('<div/>');\n",
       "\n",
       "    canvas_div.attr('style', 'position: relative; clear: both; outline: 0');\n",
       "\n",
       "    function canvas_keyboard_event(event) {\n",
       "        return fig.key_event(event, event['data']);\n",
       "    }\n",
       "\n",
       "    canvas_div.keydown('key_press', canvas_keyboard_event);\n",
       "    canvas_div.keyup('key_release', canvas_keyboard_event);\n",
       "    this.canvas_div = canvas_div\n",
       "    this._canvas_extra_style(canvas_div)\n",
       "    this.root.append(canvas_div);\n",
       "\n",
       "    var canvas = $('<canvas/>');\n",
       "    canvas.addClass('mpl-canvas');\n",
       "    canvas.attr('style', \"left: 0; top: 0; z-index: 0; outline: 0\")\n",
       "\n",
       "    this.canvas = canvas[0];\n",
       "    this.context = canvas[0].getContext(\"2d\");\n",
       "\n",
       "    var backingStore = this.context.backingStorePixelRatio ||\n",
       "\tthis.context.webkitBackingStorePixelRatio ||\n",
       "\tthis.context.mozBackingStorePixelRatio ||\n",
       "\tthis.context.msBackingStorePixelRatio ||\n",
       "\tthis.context.oBackingStorePixelRatio ||\n",
       "\tthis.context.backingStorePixelRatio || 1;\n",
       "\n",
       "    mpl.ratio = (window.devicePixelRatio || 1) / backingStore;\n",
       "\n",
       "    var rubberband = $('<canvas/>');\n",
       "    rubberband.attr('style', \"position: absolute; left: 0; top: 0; z-index: 1;\")\n",
       "\n",
       "    var pass_mouse_events = true;\n",
       "\n",
       "    canvas_div.resizable({\n",
       "        start: function(event, ui) {\n",
       "            pass_mouse_events = false;\n",
       "        },\n",
       "        resize: function(event, ui) {\n",
       "            fig.request_resize(ui.size.width, ui.size.height);\n",
       "        },\n",
       "        stop: function(event, ui) {\n",
       "            pass_mouse_events = true;\n",
       "            fig.request_resize(ui.size.width, ui.size.height);\n",
       "        },\n",
       "    });\n",
       "\n",
       "    function mouse_event_fn(event) {\n",
       "        if (pass_mouse_events)\n",
       "            return fig.mouse_event(event, event['data']);\n",
       "    }\n",
       "\n",
       "    rubberband.mousedown('button_press', mouse_event_fn);\n",
       "    rubberband.mouseup('button_release', mouse_event_fn);\n",
       "    // Throttle sequential mouse events to 1 every 20ms.\n",
       "    rubberband.mousemove('motion_notify', mouse_event_fn);\n",
       "\n",
       "    rubberband.mouseenter('figure_enter', mouse_event_fn);\n",
       "    rubberband.mouseleave('figure_leave', mouse_event_fn);\n",
       "\n",
       "    canvas_div.on(\"wheel\", function (event) {\n",
       "        event = event.originalEvent;\n",
       "        event['data'] = 'scroll'\n",
       "        if (event.deltaY < 0) {\n",
       "            event.step = 1;\n",
       "        } else {\n",
       "            event.step = -1;\n",
       "        }\n",
       "        mouse_event_fn(event);\n",
       "    });\n",
       "\n",
       "    canvas_div.append(canvas);\n",
       "    canvas_div.append(rubberband);\n",
       "\n",
       "    this.rubberband = rubberband;\n",
       "    this.rubberband_canvas = rubberband[0];\n",
       "    this.rubberband_context = rubberband[0].getContext(\"2d\");\n",
       "    this.rubberband_context.strokeStyle = \"#000000\";\n",
       "\n",
       "    this._resize_canvas = function(width, height) {\n",
       "        // Keep the size of the canvas, canvas container, and rubber band\n",
       "        // canvas in synch.\n",
       "        canvas_div.css('width', width)\n",
       "        canvas_div.css('height', height)\n",
       "\n",
       "        canvas.attr('width', width * mpl.ratio);\n",
       "        canvas.attr('height', height * mpl.ratio);\n",
       "        canvas.attr('style', 'width: ' + width + 'px; height: ' + height + 'px;');\n",
       "\n",
       "        rubberband.attr('width', width);\n",
       "        rubberband.attr('height', height);\n",
       "    }\n",
       "\n",
       "    // Set the figure to an initial 600x600px, this will subsequently be updated\n",
       "    // upon first draw.\n",
       "    this._resize_canvas(600, 600);\n",
       "\n",
       "    // Disable right mouse context menu.\n",
       "    $(this.rubberband_canvas).bind(\"contextmenu\",function(e){\n",
       "        return false;\n",
       "    });\n",
       "\n",
       "    function set_focus () {\n",
       "        canvas.focus();\n",
       "        canvas_div.focus();\n",
       "    }\n",
       "\n",
       "    window.setTimeout(set_focus, 100);\n",
       "}\n",
       "\n",
       "mpl.figure.prototype._init_toolbar = function() {\n",
       "    var fig = this;\n",
       "\n",
       "    var nav_element = $('<div/>');\n",
       "    nav_element.attr('style', 'width: 100%');\n",
       "    this.root.append(nav_element);\n",
       "\n",
       "    // Define a callback function for later on.\n",
       "    function toolbar_event(event) {\n",
       "        return fig.toolbar_button_onclick(event['data']);\n",
       "    }\n",
       "    function toolbar_mouse_event(event) {\n",
       "        return fig.toolbar_button_onmouseover(event['data']);\n",
       "    }\n",
       "\n",
       "    for(var toolbar_ind in mpl.toolbar_items) {\n",
       "        var name = mpl.toolbar_items[toolbar_ind][0];\n",
       "        var tooltip = mpl.toolbar_items[toolbar_ind][1];\n",
       "        var image = mpl.toolbar_items[toolbar_ind][2];\n",
       "        var method_name = mpl.toolbar_items[toolbar_ind][3];\n",
       "\n",
       "        if (!name) {\n",
       "            // put a spacer in here.\n",
       "            continue;\n",
       "        }\n",
       "        var button = $('<button/>');\n",
       "        button.addClass('ui-button ui-widget ui-state-default ui-corner-all ' +\n",
       "                        'ui-button-icon-only');\n",
       "        button.attr('role', 'button');\n",
       "        button.attr('aria-disabled', 'false');\n",
       "        button.click(method_name, toolbar_event);\n",
       "        button.mouseover(tooltip, toolbar_mouse_event);\n",
       "\n",
       "        var icon_img = $('<span/>');\n",
       "        icon_img.addClass('ui-button-icon-primary ui-icon');\n",
       "        icon_img.addClass(image);\n",
       "        icon_img.addClass('ui-corner-all');\n",
       "\n",
       "        var tooltip_span = $('<span/>');\n",
       "        tooltip_span.addClass('ui-button-text');\n",
       "        tooltip_span.html(tooltip);\n",
       "\n",
       "        button.append(icon_img);\n",
       "        button.append(tooltip_span);\n",
       "\n",
       "        nav_element.append(button);\n",
       "    }\n",
       "\n",
       "    var fmt_picker_span = $('<span/>');\n",
       "\n",
       "    var fmt_picker = $('<select/>');\n",
       "    fmt_picker.addClass('mpl-toolbar-option ui-widget ui-widget-content');\n",
       "    fmt_picker_span.append(fmt_picker);\n",
       "    nav_element.append(fmt_picker_span);\n",
       "    this.format_dropdown = fmt_picker[0];\n",
       "\n",
       "    for (var ind in mpl.extensions) {\n",
       "        var fmt = mpl.extensions[ind];\n",
       "        var option = $(\n",
       "            '<option/>', {selected: fmt === mpl.default_extension}).html(fmt);\n",
       "        fmt_picker.append(option);\n",
       "    }\n",
       "\n",
       "    // Add hover states to the ui-buttons\n",
       "    $( \".ui-button\" ).hover(\n",
       "        function() { $(this).addClass(\"ui-state-hover\");},\n",
       "        function() { $(this).removeClass(\"ui-state-hover\");}\n",
       "    );\n",
       "\n",
       "    var status_bar = $('<span class=\"mpl-message\"/>');\n",
       "    nav_element.append(status_bar);\n",
       "    this.message = status_bar[0];\n",
       "}\n",
       "\n",
       "mpl.figure.prototype.request_resize = function(x_pixels, y_pixels) {\n",
       "    // Request matplotlib to resize the figure. Matplotlib will then trigger a resize in the client,\n",
       "    // which will in turn request a refresh of the image.\n",
       "    this.send_message('resize', {'width': x_pixels, 'height': y_pixels});\n",
       "}\n",
       "\n",
       "mpl.figure.prototype.send_message = function(type, properties) {\n",
       "    properties['type'] = type;\n",
       "    properties['figure_id'] = this.id;\n",
       "    this.ws.send(JSON.stringify(properties));\n",
       "}\n",
       "\n",
       "mpl.figure.prototype.send_draw_message = function() {\n",
       "    if (!this.waiting) {\n",
       "        this.waiting = true;\n",
       "        this.ws.send(JSON.stringify({type: \"draw\", figure_id: this.id}));\n",
       "    }\n",
       "}\n",
       "\n",
       "\n",
       "mpl.figure.prototype.handle_save = function(fig, msg) {\n",
       "    var format_dropdown = fig.format_dropdown;\n",
       "    var format = format_dropdown.options[format_dropdown.selectedIndex].value;\n",
       "    fig.ondownload(fig, format);\n",
       "}\n",
       "\n",
       "\n",
       "mpl.figure.prototype.handle_resize = function(fig, msg) {\n",
       "    var size = msg['size'];\n",
       "    if (size[0] != fig.canvas.width || size[1] != fig.canvas.height) {\n",
       "        fig._resize_canvas(size[0], size[1]);\n",
       "        fig.send_message(\"refresh\", {});\n",
       "    };\n",
       "}\n",
       "\n",
       "mpl.figure.prototype.handle_rubberband = function(fig, msg) {\n",
       "    var x0 = msg['x0'] / mpl.ratio;\n",
       "    var y0 = (fig.canvas.height - msg['y0']) / mpl.ratio;\n",
       "    var x1 = msg['x1'] / mpl.ratio;\n",
       "    var y1 = (fig.canvas.height - msg['y1']) / mpl.ratio;\n",
       "    x0 = Math.floor(x0) + 0.5;\n",
       "    y0 = Math.floor(y0) + 0.5;\n",
       "    x1 = Math.floor(x1) + 0.5;\n",
       "    y1 = Math.floor(y1) + 0.5;\n",
       "    var min_x = Math.min(x0, x1);\n",
       "    var min_y = Math.min(y0, y1);\n",
       "    var width = Math.abs(x1 - x0);\n",
       "    var height = Math.abs(y1 - y0);\n",
       "\n",
       "    fig.rubberband_context.clearRect(\n",
       "        0, 0, fig.canvas.width / mpl.ratio, fig.canvas.height / mpl.ratio);\n",
       "\n",
       "    fig.rubberband_context.strokeRect(min_x, min_y, width, height);\n",
       "}\n",
       "\n",
       "mpl.figure.prototype.handle_figure_label = function(fig, msg) {\n",
       "    // Updates the figure title.\n",
       "    fig.header.textContent = msg['label'];\n",
       "}\n",
       "\n",
       "mpl.figure.prototype.handle_cursor = function(fig, msg) {\n",
       "    var cursor = msg['cursor'];\n",
       "    switch(cursor)\n",
       "    {\n",
       "    case 0:\n",
       "        cursor = 'pointer';\n",
       "        break;\n",
       "    case 1:\n",
       "        cursor = 'default';\n",
       "        break;\n",
       "    case 2:\n",
       "        cursor = 'crosshair';\n",
       "        break;\n",
       "    case 3:\n",
       "        cursor = 'move';\n",
       "        break;\n",
       "    }\n",
       "    fig.rubberband_canvas.style.cursor = cursor;\n",
       "}\n",
       "\n",
       "mpl.figure.prototype.handle_message = function(fig, msg) {\n",
       "    fig.message.textContent = msg['message'];\n",
       "}\n",
       "\n",
       "mpl.figure.prototype.handle_draw = function(fig, msg) {\n",
       "    // Request the server to send over a new figure.\n",
       "    fig.send_draw_message();\n",
       "}\n",
       "\n",
       "mpl.figure.prototype.handle_image_mode = function(fig, msg) {\n",
       "    fig.image_mode = msg['mode'];\n",
       "}\n",
       "\n",
       "mpl.figure.prototype.updated_canvas_event = function() {\n",
       "    // Called whenever the canvas gets updated.\n",
       "    this.send_message(\"ack\", {});\n",
       "}\n",
       "\n",
       "// A function to construct a web socket function for onmessage handling.\n",
       "// Called in the figure constructor.\n",
       "mpl.figure.prototype._make_on_message_function = function(fig) {\n",
       "    return function socket_on_message(evt) {\n",
       "        if (evt.data instanceof Blob) {\n",
       "            /* FIXME: We get \"Resource interpreted as Image but\n",
       "             * transferred with MIME type text/plain:\" errors on\n",
       "             * Chrome.  But how to set the MIME type?  It doesn't seem\n",
       "             * to be part of the websocket stream */\n",
       "            evt.data.type = \"image/png\";\n",
       "\n",
       "            /* Free the memory for the previous frames */\n",
       "            if (fig.imageObj.src) {\n",
       "                (window.URL || window.webkitURL).revokeObjectURL(\n",
       "                    fig.imageObj.src);\n",
       "            }\n",
       "\n",
       "            fig.imageObj.src = (window.URL || window.webkitURL).createObjectURL(\n",
       "                evt.data);\n",
       "            fig.updated_canvas_event();\n",
       "            fig.waiting = false;\n",
       "            return;\n",
       "        }\n",
       "        else if (typeof evt.data === 'string' && evt.data.slice(0, 21) == \"data:image/png;base64\") {\n",
       "            fig.imageObj.src = evt.data;\n",
       "            fig.updated_canvas_event();\n",
       "            fig.waiting = false;\n",
       "            return;\n",
       "        }\n",
       "\n",
       "        var msg = JSON.parse(evt.data);\n",
       "        var msg_type = msg['type'];\n",
       "\n",
       "        // Call the  \"handle_{type}\" callback, which takes\n",
       "        // the figure and JSON message as its only arguments.\n",
       "        try {\n",
       "            var callback = fig[\"handle_\" + msg_type];\n",
       "        } catch (e) {\n",
       "            console.log(\"No handler for the '\" + msg_type + \"' message type: \", msg);\n",
       "            return;\n",
       "        }\n",
       "\n",
       "        if (callback) {\n",
       "            try {\n",
       "                // console.log(\"Handling '\" + msg_type + \"' message: \", msg);\n",
       "                callback(fig, msg);\n",
       "            } catch (e) {\n",
       "                console.log(\"Exception inside the 'handler_\" + msg_type + \"' callback:\", e, e.stack, msg);\n",
       "            }\n",
       "        }\n",
       "    };\n",
       "}\n",
       "\n",
       "// from http://stackoverflow.com/questions/1114465/getting-mouse-location-in-canvas\n",
       "mpl.findpos = function(e) {\n",
       "    //this section is from http://www.quirksmode.org/js/events_properties.html\n",
       "    var targ;\n",
       "    if (!e)\n",
       "        e = window.event;\n",
       "    if (e.target)\n",
       "        targ = e.target;\n",
       "    else if (e.srcElement)\n",
       "        targ = e.srcElement;\n",
       "    if (targ.nodeType == 3) // defeat Safari bug\n",
       "        targ = targ.parentNode;\n",
       "\n",
       "    // jQuery normalizes the pageX and pageY\n",
       "    // pageX,Y are the mouse positions relative to the document\n",
       "    // offset() returns the position of the element relative to the document\n",
       "    var x = e.pageX - $(targ).offset().left;\n",
       "    var y = e.pageY - $(targ).offset().top;\n",
       "\n",
       "    return {\"x\": x, \"y\": y};\n",
       "};\n",
       "\n",
       "/*\n",
       " * return a copy of an object with only non-object keys\n",
       " * we need this to avoid circular references\n",
       " * http://stackoverflow.com/a/24161582/3208463\n",
       " */\n",
       "function simpleKeys (original) {\n",
       "  return Object.keys(original).reduce(function (obj, key) {\n",
       "    if (typeof original[key] !== 'object')\n",
       "        obj[key] = original[key]\n",
       "    return obj;\n",
       "  }, {});\n",
       "}\n",
       "\n",
       "mpl.figure.prototype.mouse_event = function(event, name) {\n",
       "    var canvas_pos = mpl.findpos(event)\n",
       "\n",
       "    if (name === 'button_press')\n",
       "    {\n",
       "        this.canvas.focus();\n",
       "        this.canvas_div.focus();\n",
       "    }\n",
       "\n",
       "    var x = canvas_pos.x * mpl.ratio;\n",
       "    var y = canvas_pos.y * mpl.ratio;\n",
       "\n",
       "    this.send_message(name, {x: x, y: y, button: event.button,\n",
       "                             step: event.step,\n",
       "                             guiEvent: simpleKeys(event)});\n",
       "\n",
       "    /* This prevents the web browser from automatically changing to\n",
       "     * the text insertion cursor when the button is pressed.  We want\n",
       "     * to control all of the cursor setting manually through the\n",
       "     * 'cursor' event from matplotlib */\n",
       "    event.preventDefault();\n",
       "    return false;\n",
       "}\n",
       "\n",
       "mpl.figure.prototype._key_event_extra = function(event, name) {\n",
       "    // Handle any extra behaviour associated with a key event\n",
       "}\n",
       "\n",
       "mpl.figure.prototype.key_event = function(event, name) {\n",
       "\n",
       "    // Prevent repeat events\n",
       "    if (name == 'key_press')\n",
       "    {\n",
       "        if (event.which === this._key)\n",
       "            return;\n",
       "        else\n",
       "            this._key = event.which;\n",
       "    }\n",
       "    if (name == 'key_release')\n",
       "        this._key = null;\n",
       "\n",
       "    var value = '';\n",
       "    if (event.ctrlKey && event.which != 17)\n",
       "        value += \"ctrl+\";\n",
       "    if (event.altKey && event.which != 18)\n",
       "        value += \"alt+\";\n",
       "    if (event.shiftKey && event.which != 16)\n",
       "        value += \"shift+\";\n",
       "\n",
       "    value += 'k';\n",
       "    value += event.which.toString();\n",
       "\n",
       "    this._key_event_extra(event, name);\n",
       "\n",
       "    this.send_message(name, {key: value,\n",
       "                             guiEvent: simpleKeys(event)});\n",
       "    return false;\n",
       "}\n",
       "\n",
       "mpl.figure.prototype.toolbar_button_onclick = function(name) {\n",
       "    if (name == 'download') {\n",
       "        this.handle_save(this, null);\n",
       "    } else {\n",
       "        this.send_message(\"toolbar_button\", {name: name});\n",
       "    }\n",
       "};\n",
       "\n",
       "mpl.figure.prototype.toolbar_button_onmouseover = function(tooltip) {\n",
       "    this.message.textContent = tooltip;\n",
       "};\n",
       "mpl.toolbar_items = [[\"Home\", \"Reset original view\", \"fa fa-home icon-home\", \"home\"], [\"Back\", \"Back to previous view\", \"fa fa-arrow-left icon-arrow-left\", \"back\"], [\"Forward\", \"Forward to next view\", \"fa fa-arrow-right icon-arrow-right\", \"forward\"], [\"\", \"\", \"\", \"\"], [\"Pan\", \"Pan axes with left mouse, zoom with right\", \"fa fa-arrows icon-move\", \"pan\"], [\"Zoom\", \"Zoom to rectangle\", \"fa fa-square-o icon-check-empty\", \"zoom\"], [\"\", \"\", \"\", \"\"], [\"Download\", \"Download plot\", \"fa fa-floppy-o icon-save\", \"download\"]];\n",
       "\n",
       "mpl.extensions = [\"eps\", \"jpeg\", \"pdf\", \"png\", \"ps\", \"raw\", \"svg\", \"tif\"];\n",
       "\n",
       "mpl.default_extension = \"png\";var comm_websocket_adapter = function(comm) {\n",
       "    // Create a \"websocket\"-like object which calls the given IPython comm\n",
       "    // object with the appropriate methods. Currently this is a non binary\n",
       "    // socket, so there is still some room for performance tuning.\n",
       "    var ws = {};\n",
       "\n",
       "    ws.close = function() {\n",
       "        comm.close()\n",
       "    };\n",
       "    ws.send = function(m) {\n",
       "        //console.log('sending', m);\n",
       "        comm.send(m);\n",
       "    };\n",
       "    // Register the callback with on_msg.\n",
       "    comm.on_msg(function(msg) {\n",
       "        //console.log('receiving', msg['content']['data'], msg);\n",
       "        // Pass the mpl event to the overridden (by mpl) onmessage function.\n",
       "        ws.onmessage(msg['content']['data'])\n",
       "    });\n",
       "    return ws;\n",
       "}\n",
       "\n",
       "mpl.mpl_figure_comm = function(comm, msg) {\n",
       "    // This is the function which gets called when the mpl process\n",
       "    // starts-up an IPython Comm through the \"matplotlib\" channel.\n",
       "\n",
       "    var id = msg.content.data.id;\n",
       "    // Get hold of the div created by the display call when the Comm\n",
       "    // socket was opened in Python.\n",
       "    var element = $(\"#\" + id);\n",
       "    var ws_proxy = comm_websocket_adapter(comm)\n",
       "\n",
       "    function ondownload(figure, format) {\n",
       "        window.open(figure.imageObj.src);\n",
       "    }\n",
       "\n",
       "    var fig = new mpl.figure(id, ws_proxy,\n",
       "                           ondownload,\n",
       "                           element.get(0));\n",
       "\n",
       "    // Call onopen now - mpl needs it, as it is assuming we've passed it a real\n",
       "    // web socket which is closed, not our websocket->open comm proxy.\n",
       "    ws_proxy.onopen();\n",
       "\n",
       "    fig.parent_element = element.get(0);\n",
       "    fig.cell_info = mpl.find_output_cell(\"<div id='\" + id + \"'></div>\");\n",
       "    if (!fig.cell_info) {\n",
       "        console.error(\"Failed to find cell for figure\", id, fig);\n",
       "        return;\n",
       "    }\n",
       "\n",
       "    var output_index = fig.cell_info[2]\n",
       "    var cell = fig.cell_info[0];\n",
       "\n",
       "};\n",
       "\n",
       "mpl.figure.prototype.handle_close = function(fig, msg) {\n",
       "    var width = fig.canvas.width/mpl.ratio\n",
       "    fig.root.unbind('remove')\n",
       "\n",
       "    // Update the output cell to use the data from the current canvas.\n",
       "    fig.push_to_output();\n",
       "    var dataURL = fig.canvas.toDataURL();\n",
       "    // Re-enable the keyboard manager in IPython - without this line, in FF,\n",
       "    // the notebook keyboard shortcuts fail.\n",
       "    IPython.keyboard_manager.enable()\n",
       "    $(fig.parent_element).html('<img src=\"' + dataURL + '\" width=\"' + width + '\">');\n",
       "    fig.close_ws(fig, msg);\n",
       "}\n",
       "\n",
       "mpl.figure.prototype.close_ws = function(fig, msg){\n",
       "    fig.send_message('closing', msg);\n",
       "    // fig.ws.close()\n",
       "}\n",
       "\n",
       "mpl.figure.prototype.push_to_output = function(remove_interactive) {\n",
       "    // Turn the data on the canvas into data in the output cell.\n",
       "    var width = this.canvas.width/mpl.ratio\n",
       "    var dataURL = this.canvas.toDataURL();\n",
       "    this.cell_info[1]['text/html'] = '<img src=\"' + dataURL + '\" width=\"' + width + '\">';\n",
       "}\n",
       "\n",
       "mpl.figure.prototype.updated_canvas_event = function() {\n",
       "    // Tell IPython that the notebook contents must change.\n",
       "    IPython.notebook.set_dirty(true);\n",
       "    this.send_message(\"ack\", {});\n",
       "    var fig = this;\n",
       "    // Wait a second, then push the new image to the DOM so\n",
       "    // that it is saved nicely (might be nice to debounce this).\n",
       "    setTimeout(function () { fig.push_to_output() }, 1000);\n",
       "}\n",
       "\n",
       "mpl.figure.prototype._init_toolbar = function() {\n",
       "    var fig = this;\n",
       "\n",
       "    var nav_element = $('<div/>');\n",
       "    nav_element.attr('style', 'width: 100%');\n",
       "    this.root.append(nav_element);\n",
       "\n",
       "    // Define a callback function for later on.\n",
       "    function toolbar_event(event) {\n",
       "        return fig.toolbar_button_onclick(event['data']);\n",
       "    }\n",
       "    function toolbar_mouse_event(event) {\n",
       "        return fig.toolbar_button_onmouseover(event['data']);\n",
       "    }\n",
       "\n",
       "    for(var toolbar_ind in mpl.toolbar_items){\n",
       "        var name = mpl.toolbar_items[toolbar_ind][0];\n",
       "        var tooltip = mpl.toolbar_items[toolbar_ind][1];\n",
       "        var image = mpl.toolbar_items[toolbar_ind][2];\n",
       "        var method_name = mpl.toolbar_items[toolbar_ind][3];\n",
       "\n",
       "        if (!name) { continue; };\n",
       "\n",
       "        var button = $('<button class=\"btn btn-default\" href=\"#\" title=\"' + name + '\"><i class=\"fa ' + image + ' fa-lg\"></i></button>');\n",
       "        button.click(method_name, toolbar_event);\n",
       "        button.mouseover(tooltip, toolbar_mouse_event);\n",
       "        nav_element.append(button);\n",
       "    }\n",
       "\n",
       "    // Add the status bar.\n",
       "    var status_bar = $('<span class=\"mpl-message\" style=\"text-align:right; float: right;\"/>');\n",
       "    nav_element.append(status_bar);\n",
       "    this.message = status_bar[0];\n",
       "\n",
       "    // Add the close button to the window.\n",
       "    var buttongrp = $('<div class=\"btn-group inline pull-right\"></div>');\n",
       "    var button = $('<button class=\"btn btn-mini btn-primary\" href=\"#\" title=\"Stop Interaction\"><i class=\"fa fa-power-off icon-remove icon-large\"></i></button>');\n",
       "    button.click(function (evt) { fig.handle_close(fig, {}); } );\n",
       "    button.mouseover('Stop Interaction', toolbar_mouse_event);\n",
       "    buttongrp.append(button);\n",
       "    var titlebar = this.root.find($('.ui-dialog-titlebar'));\n",
       "    titlebar.prepend(buttongrp);\n",
       "}\n",
       "\n",
       "mpl.figure.prototype._root_extra_style = function(el){\n",
       "    var fig = this\n",
       "    el.on(\"remove\", function(){\n",
       "\tfig.close_ws(fig, {});\n",
       "    });\n",
       "}\n",
       "\n",
       "mpl.figure.prototype._canvas_extra_style = function(el){\n",
       "    // this is important to make the div 'focusable\n",
       "    el.attr('tabindex', 0)\n",
       "    // reach out to IPython and tell the keyboard manager to turn it's self\n",
       "    // off when our div gets focus\n",
       "\n",
       "    // location in version 3\n",
       "    if (IPython.notebook.keyboard_manager) {\n",
       "        IPython.notebook.keyboard_manager.register_events(el);\n",
       "    }\n",
       "    else {\n",
       "        // location in version 2\n",
       "        IPython.keyboard_manager.register_events(el);\n",
       "    }\n",
       "\n",
       "}\n",
       "\n",
       "mpl.figure.prototype._key_event_extra = function(event, name) {\n",
       "    var manager = IPython.notebook.keyboard_manager;\n",
       "    if (!manager)\n",
       "        manager = IPython.keyboard_manager;\n",
       "\n",
       "    // Check for shift+enter\n",
       "    if (event.shiftKey && event.which == 13) {\n",
       "        this.canvas_div.blur();\n",
       "        // select the cell after this one\n",
       "        var index = IPython.notebook.find_cell_index(this.cell_info[0]);\n",
       "        IPython.notebook.select(index + 1);\n",
       "    }\n",
       "}\n",
       "\n",
       "mpl.figure.prototype.handle_save = function(fig, msg) {\n",
       "    fig.ondownload(fig, null);\n",
       "}\n",
       "\n",
       "\n",
       "mpl.find_output_cell = function(html_output) {\n",
       "    // Return the cell and output element which can be found *uniquely* in the notebook.\n",
       "    // Note - this is a bit hacky, but it is done because the \"notebook_saving.Notebook\"\n",
       "    // IPython event is triggered only after the cells have been serialised, which for\n",
       "    // our purposes (turning an active figure into a static one), is too late.\n",
       "    var cells = IPython.notebook.get_cells();\n",
       "    var ncells = cells.length;\n",
       "    for (var i=0; i<ncells; i++) {\n",
       "        var cell = cells[i];\n",
       "        if (cell.cell_type === 'code'){\n",
       "            for (var j=0; j<cell.output_area.outputs.length; j++) {\n",
       "                var data = cell.output_area.outputs[j];\n",
       "                if (data.data) {\n",
       "                    // IPython >= 3 moved mimebundle to data attribute of output\n",
       "                    data = data.data;\n",
       "                }\n",
       "                if (data['text/html'] == html_output) {\n",
       "                    return [cell, data, j];\n",
       "                }\n",
       "            }\n",
       "        }\n",
       "    }\n",
       "}\n",
       "\n",
       "// Register the function which deals with the matplotlib target/channel.\n",
       "// The kernel may be null if the page has been refreshed.\n",
       "if (IPython.notebook.kernel != null) {\n",
       "    IPython.notebook.kernel.comm_manager.register_target('matplotlib', mpl.mpl_figure_comm);\n",
       "}\n"
      ],
      "text/plain": [
       "<IPython.core.display.Javascript object>"
      ]
     },
     "metadata": {},
     "output_type": "display_data"
    },
    {
     "data": {
      "text/html": [
       "<img src=\"data:image/png;base64,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\" width=\"640\">"
      ],
      "text/plain": [
       "<IPython.core.display.HTML object>"
      ]
     },
     "metadata": {},
     "output_type": "display_data"
    }
   ],
   "source": [
    "x = np.linspace(0, 10)\n",
    "y = np.sin(x)\n",
    "plt.plot(x, y);"
   ]
  },
  {
   "cell_type": "code",
   "execution_count": null,
   "metadata": {},
   "outputs": [],
   "source": []
  }
 ],
 "metadata": {
  "kernelspec": {
   "display_name": "Python 3",
   "language": "python",
   "name": "python3"
  },
  "language_info": {
   "codemirror_mode": {
    "name": "ipython",
    "version": 3
   },
   "file_extension": ".py",
   "mimetype": "text/x-python",
   "name": "python",
   "nbconvert_exporter": "python",
   "pygments_lexer": "ipython3",
   "version": "3.8.3"
  }
 },
 "nbformat": 4,
 "nbformat_minor": 4
}
